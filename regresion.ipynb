{
 "cells": [
  {
   "cell_type": "code",
   "execution_count": 22,
   "metadata": {},
   "outputs": [],
   "source": [
    "import pandas as pd\n",
    "import matplotlib.pyplot as plt\n",
    "from sklearn.model_selection import train_test_split\n",
    "from sklearn.linear_model import LinearRegression"
   ]
  },
  {
   "cell_type": "code",
   "execution_count": 23,
   "metadata": {},
   "outputs": [],
   "source": [
    "dataset= pd.read_csv('C:/Users/52222/Documents/Platzi/Fundamentos Practicos ML/salarios.csv')"
   ]
  },
  {
   "cell_type": "code",
   "execution_count": 24,
   "metadata": {},
   "outputs": [
    {
     "data": {
      "text/html": [
       "<div>\n",
       "<style scoped>\n",
       "    .dataframe tbody tr th:only-of-type {\n",
       "        vertical-align: middle;\n",
       "    }\n",
       "\n",
       "    .dataframe tbody tr th {\n",
       "        vertical-align: top;\n",
       "    }\n",
       "\n",
       "    .dataframe thead th {\n",
       "        text-align: right;\n",
       "    }\n",
       "</style>\n",
       "<table border=\"1\" class=\"dataframe\">\n",
       "  <thead>\n",
       "    <tr style=\"text-align: right;\">\n",
       "      <th></th>\n",
       "      <th>Aexperiencia</th>\n",
       "      <th>Salario</th>\n",
       "    </tr>\n",
       "  </thead>\n",
       "  <tbody>\n",
       "    <tr>\n",
       "      <th>0</th>\n",
       "      <td>10.0</td>\n",
       "      <td>42500</td>\n",
       "    </tr>\n",
       "    <tr>\n",
       "      <th>1</th>\n",
       "      <td>8.0</td>\n",
       "      <td>36302</td>\n",
       "    </tr>\n",
       "    <tr>\n",
       "      <th>2</th>\n",
       "      <td>5.4</td>\n",
       "      <td>35000</td>\n",
       "    </tr>\n",
       "    <tr>\n",
       "      <th>3</th>\n",
       "      <td>2.5</td>\n",
       "      <td>18103</td>\n",
       "    </tr>\n",
       "    <tr>\n",
       "      <th>4</th>\n",
       "      <td>1.0</td>\n",
       "      <td>15000</td>\n",
       "    </tr>\n",
       "  </tbody>\n",
       "</table>\n",
       "</div>"
      ],
      "text/plain": [
       "   Aexperiencia  Salario\n",
       "0          10.0    42500\n",
       "1           8.0    36302\n",
       "2           5.4    35000\n",
       "3           2.5    18103\n",
       "4           1.0    15000"
      ]
     },
     "execution_count": 24,
     "metadata": {},
     "output_type": "execute_result"
    }
   ],
   "source": [
    "dataset.head(5)"
   ]
  },
  {
   "cell_type": "code",
   "execution_count": 25,
   "metadata": {},
   "outputs": [
    {
     "data": {
      "text/plain": [
       "(30, 2)"
      ]
     },
     "execution_count": 25,
     "metadata": {},
     "output_type": "execute_result"
    }
   ],
   "source": [
    "dataset.shape"
   ]
  },
  {
   "cell_type": "code",
   "execution_count": 26,
   "metadata": {},
   "outputs": [],
   "source": [
    "x= dataset.iloc[:, :-1].values #ignifica todos los elementos excepto el elemento -1 (el ultimo).\n",
    "y= dataset.iloc[:, 1].values #lee toda la segunda, pues inicia en 0\n",
    "# ________- TAMBIEN_______\n",
    "#  X = dataset['Aexperiencia'].values\n",
    "# y = dataset['Salario'].values"
   ]
  },
  {
   "cell_type": "code",
   "execution_count": 35,
   "metadata": {},
   "outputs": [],
   "source": [
    "####ENTRENAR\n",
    "X_train, X_test, Y_train, Y_test = train_test_split(x,y, test_size=0.2, \n",
    "random_state=0)\n",
    "#test size nos dice como dividir los datos, 20 porceinto va para prueba\n",
    "#de donde toma la lmuestra es decir,\n",
    "#  lso primoeros 25 o especidfifcar orea forma"
   ]
  },
  {
   "cell_type": "code",
   "execution_count": 36,
   "metadata": {},
   "outputs": [
    {
     "data": {
      "text/plain": [
       "array([[10. ],\n",
       "       [ 7. ],\n",
       "       [ 2. ],\n",
       "       [ 5.3],\n",
       "       [ 8. ],\n",
       "       [ 3. ],\n",
       "       [ 2. ],\n",
       "       [ 2. ],\n",
       "       [ 2.1],\n",
       "       [ 5. ],\n",
       "       [ 8. ],\n",
       "       [ 1. ],\n",
       "       [ 4. ],\n",
       "       [ 1. ],\n",
       "       [ 3. ],\n",
       "       [ 2. ],\n",
       "       [10. ],\n",
       "       [ 6. ],\n",
       "       [10. ],\n",
       "       [ 2.5],\n",
       "       [10. ],\n",
       "       [ 3.4],\n",
       "       [ 5. ],\n",
       "       [ 3. ]])"
      ]
     },
     "execution_count": 36,
     "metadata": {},
     "output_type": "execute_result"
    }
   ],
   "source": [
    "X_train"
   ]
  },
  {
   "cell_type": "code",
   "execution_count": 29,
   "metadata": {},
   "outputs": [],
   "source": [
    "#####______________-DEFINIR MODELO-______________###########"
   ]
  },
  {
   "cell_type": "code",
   "execution_count": 37,
   "metadata": {},
   "outputs": [
    {
     "data": {
      "text/plain": [
       "LinearRegression()"
      ]
     },
     "execution_count": 37,
     "metadata": {},
     "output_type": "execute_result"
    }
   ],
   "source": [
    "regressor= LinearRegression()\n",
    "regressor.fit(X_train, Y_train)"
   ]
  },
  {
   "cell_type": "code",
   "execution_count": 43,
   "metadata": {},
   "outputs": [
    {
     "data": {
      "image/png": "[encoded data removed]",
      "text/plain": [
       "<Figure size 432x288 with 1 Axes>"
      ]
     },
     "metadata": {
      "needs_background": "light"
     },
     "output_type": "display_data"
    }
   ],
   "source": [
    "#Datos del entrenameinto\n",
    "viz_train = plt\n",
    "viz_train.scatter(X_train,Y_train, color = 'blue')\n",
    "viz_train.plot(X_train, regressor.predict(X_train), color='red')\n",
    "viz_train.title('Salarios vs Expericnia')\n",
    "viz_train.xlabel('Experiencia')\n",
    "viz_train.ylabel('Salario')\n",
    "viz_train.show()"
   ]
  },
  {
   "cell_type": "code",
   "execution_count": 45,
   "metadata": {},
   "outputs": [
    {
     "data": {
      "image/png": "[encoded data removed]",
      "text/plain": [
       "<Figure size 432x288 with 1 Axes>"
      ]
     },
     "metadata": {
      "needs_background": "light"
     },
     "output_type": "display_data"
    }
   ],
   "source": [
    "#Datos de Test\n",
    "viz_train = plt\n",
    "viz_train.scatter(X_test,Y_test, color = 'red')\n",
    "viz_train.plot(X_train, regressor.predict(X_train), color='black')\n",
    "viz_train.title('Salarios vs Expericnia')\n",
    "viz_train.xlabel('Experiencia')\n",
    "viz_train.ylabel('Salario')\n",
    "viz_train.show()"
   ]
  },
  {
   "cell_type": "code",
   "execution_count": 46,
   "metadata": {},
   "outputs": [
    {
     "data": {
      "text/plain": [
       "0.7862437374732997"
      ]
     },
     "execution_count": 46,
     "metadata": {},
     "output_type": "execute_result"
    }
   ],
   "source": [
    "regressor.score(X_test, Y_test)"
   ]
  },
  {
   "cell_type": "code",
   "execution_count": null,
   "metadata": {},
   "outputs": [],
   "source": []
  },
  {
   "cell_type": "code",
   "execution_count": null,
   "metadata": {},
   "outputs": [],
   "source": []
  },
  {
   "cell_type": "code",
   "execution_count": null,
   "metadata": {},
   "outputs": [],
   "source": []
  }
 ],
 "metadata": {
  "kernelspec": {
   "display_name": "Python 3",
   "language": "python",
   "name": "python3"
  },
  "language_info": {
   "codemirror_mode": {
    "name": "ipython",
    "version": 3
   },
   "file_extension": ".py",
   "mimetype": "text/x-python",
   "name": "python",
   "nbconvert_exporter": "python",
   "pygments_lexer": "ipython3",
   "version": "3.9.12"
  },
  "orig_nbformat": 4,
  "vscode": {
   "interpreter": {
    "hash": "86447aa29b0c203afafecc5165a6c72babd7cfbd65e77f6dbdd3c2bdcc95691b"
   }
  }
 },
 "nbformat": 4,
 "nbformat_minor": 2
}
